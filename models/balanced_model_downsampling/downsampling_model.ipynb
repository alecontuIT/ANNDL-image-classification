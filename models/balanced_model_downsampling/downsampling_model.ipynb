{
 "cells": [
  {
   "cell_type": "markdown",
   "id": "647c2408",
   "metadata": {},
   "source": [
    "# Imports"
   ]
  },
  {
   "cell_type": "code",
   "execution_count": 1,
   "id": "dd9626b3",
   "metadata": {},
   "outputs": [
    {
     "name": "stdout",
     "output_type": "stream",
     "text": [
      "Init Plugin\n",
      "Init Graph Optimizer\n",
      "Init Kernel\n"
     ]
    }
   ],
   "source": [
    "import sklearn.utils.class_weight as wgt\n",
    "import numpy as np\n",
    "import tensorflow as tf\n",
    "import os\n",
    "import random\n",
    "import shutil as shtl\n",
    "from tensorflow.keras.preprocessing.image import ImageDataGenerator\n",
    "from sklearn.model_selection import train_test_split\n",
    "import sys\n",
    "sys.path.append('../../')\n",
    "import utils\n",
    "tfk = tf.keras \n",
    "tfkl = tfk.layers"
   ]
  },
  {
   "cell_type": "markdown",
   "id": "b8cca61a",
   "metadata": {},
   "source": [
    "# Setting Seed"
   ]
  },
  {
   "cell_type": "code",
   "execution_count": 2,
   "id": "1dee4839",
   "metadata": {},
   "outputs": [],
   "source": [
    "seed = 10\n",
    "\n",
    "np.random.seed(seed)\n",
    "tf.random.set_seed(seed)\n",
    "os.environ['PYTHONHASHSEED'] = str(seed)\n",
    "tf.compat.v1.set_random_seed(seed)"
   ]
  },
  {
   "cell_type": "markdown",
   "id": "4e24db8b",
   "metadata": {},
   "source": [
    "# Building Model"
   ]
  },
  {
   "cell_type": "code",
   "execution_count": 4,
   "id": "ffc90ac2",
   "metadata": {},
   "outputs": [],
   "source": [
    "training_dir = os.path.join('.', 'training')\n",
    "validation_dir = os.path.join('.', 'validation')\n",
    "unsampled_data_dir = os.path.join('.', 'data')\n",
    "min_images = 264\n",
    "\n",
    "def downsampling(path_to_original, unsampled_data_dir):\n",
    "    os.mkdir(unsampled_data_dir)\n",
    "    for _dir in os.listdir(path_to_original):\n",
    "        class_dir_original = os.path.join(path_to_original, _dir)\n",
    "        if (os.path.isdir(class_dir_original)):\n",
    "            class_unsampled_dir = os.path.join(unsampled_data_dir, _dir)\n",
    "            os.mkdir(class_unsampled_dir)\n",
    "            files = []\n",
    "            for f in os.listdir(class_dir_original): \n",
    "                files.append(f)\n",
    "            random.shuffle(files)\n",
    "            files = files[:min_images]\n",
    "            for d in files:\n",
    "                shtl.copyfile(os.path.join(class_dir_original, d), os.path.join(class_unsampled_dir, d))\n",
    "            \n",
    "            \n",
    "downsampling('../../data', unsampled_data_dir)\n",
    "utils.build_train_valid_dirs(unsampled_data_dir, training_dir, validation_dir)\n",
    "            \n",
    "\n",
    "batch_size = 64\n",
    "epochs = 1000\n",
    "patience = 100\n",
    "input_shape = (128, 128, 3)\n",
    "neurons = [512, 256]\n",
    "hiddens = 2"
   ]
  },
  {
   "cell_type": "code",
   "execution_count": 5,
   "id": "fb170d4e",
   "metadata": {},
   "outputs": [
    {
     "name": "stdout",
     "output_type": "stream",
     "text": [
      "Found 3136 images belonging to 14 classes.\n",
      "Found 560 images belonging to 14 classes.\n"
     ]
    }
   ],
   "source": [
    "train_data_gen = ImageDataGenerator(rescale=1/255.,\n",
    "                                    rotation_range=45,\n",
    "                                    zoom_range=[0.,0.2],\n",
    "                                    horizontal_flip=True,\n",
    "                                    vertical_flip=True,\n",
    "                                    height_shift_range=0.3,\n",
    "                                    width_shift_range=0.3)\n",
    "\n",
    "valid_data_gen = ImageDataGenerator(rescale=1/255.)\n",
    "\n",
    "train_gen = train_data_gen.flow_from_directory(directory=training_dir,\n",
    "                                               target_size=input_shape[:2],\n",
    "                                               interpolation='bilinear',\n",
    "                                               color_mode='rgb',\n",
    "                                               batch_size=batch_size,\n",
    "                                               classes=None,\n",
    "                                               shuffle=True,\n",
    "                                               seed=seed)  \n",
    "\n",
    "valid_gen = valid_data_gen.flow_from_directory(directory=validation_dir,\n",
    "                                               target_size=input_shape[:2],\n",
    "                                               interpolation='bilinear',\n",
    "                                               color_mode='rgb',\n",
    "                                               batch_size=batch_size,\n",
    "                                               classes=None,\n",
    "                                               shuffle=False,\n",
    "                                               seed=seed)  \n",
    "                                        "
   ]
  },
  {
   "cell_type": "code",
   "execution_count": 6,
   "id": "e14024fa",
   "metadata": {},
   "outputs": [
    {
     "name": "stdout",
     "output_type": "stream",
     "text": [
      "Metal device set to: Apple M1 Pro\n"
     ]
    },
    {
     "name": "stderr",
     "output_type": "stream",
     "text": [
      "2021-11-28 17:58:16.854547: I tensorflow/core/common_runtime/pluggable_device/pluggable_device_factory.cc:305] Could not identify NUMA node of platform GPU ID 0, defaulting to 0. Your kernel may not have been built with NUMA support.\n",
      "2021-11-28 17:58:16.854667: I tensorflow/core/common_runtime/pluggable_device/pluggable_device_factory.cc:271] Created TensorFlow device (/job:localhost/replica:0/task:0/device:GPU:0 with 0 MB memory) -> physical PluggableDevice (device: 0, name: METAL, pci bus id: <undefined>)\n"
     ]
    },
    {
     "name": "stdout",
     "output_type": "stream",
     "text": [
      "Model: \"model\"\n",
      "_________________________________________________________________\n",
      "Layer (type)                 Output Shape              Param #   \n",
      "=================================================================\n",
      "input_2 (InputLayer)         [(None, 128, 128, 3)]     0         \n",
      "_________________________________________________________________\n",
      "vgg16 (Functional)           (None, 4, 4, 512)         14714688  \n",
      "_________________________________________________________________\n",
      "Flattening (Flatten)         (None, 8192)              0         \n",
      "_________________________________________________________________\n",
      "dropout (Dropout)            (None, 8192)              0         \n",
      "_________________________________________________________________\n",
      "dense (Dense)                (None, 512)               4194816   \n",
      "_________________________________________________________________\n",
      "dropout_1 (Dropout)          (None, 512)               0         \n",
      "_________________________________________________________________\n",
      "dense_1 (Dense)              (None, 256)               131328    \n",
      "_________________________________________________________________\n",
      "dense_2 (Dense)              (None, 14)                3598      \n",
      "=================================================================\n",
      "Total params: 19,044,430\n",
      "Trainable params: 4,329,742\n",
      "Non-trainable params: 14,714,688\n",
      "_________________________________________________________________\n"
     ]
    }
   ],
   "source": [
    "tl_model = utils.build_tl_vgg_model(hiddens=hiddens, neurons=neurons, input_shape=input_shape, seed=seed)\n",
    "\n",
    "# Compile the model\n",
    "tl_model.compile(loss=tfk.losses.CategoricalCrossentropy(), optimizer=tfk.optimizers.Adam(), metrics=['accuracy','categorical_accuracy', 'Precision', 'Recall'])\n",
    "tl_model.summary()"
   ]
  },
  {
   "cell_type": "code",
   "execution_count": null,
   "id": "f2fd0faa",
   "metadata": {},
   "outputs": [],
   "source": [
    "tl_history = tl_model.fit(\n",
    "    x = train_gen,\n",
    "    batch_size = batch_size,\n",
    "    epochs = 1,\n",
    "    validation_data = valid_gen,\n",
    "    callbacks = [tfk.callbacks.EarlyStopping(monitor='val_loss', mode='min', patience=patience, restore_best_weights=True)]\n",
    ").history"
   ]
  },
  {
   "cell_type": "markdown",
   "id": "d9ac77c7",
   "metadata": {},
   "source": [
    "# Training and Results Visualization"
   ]
  },
  {
   "cell_type": "code",
   "execution_count": null,
   "id": "de5a5f43",
   "metadata": {},
   "outputs": [],
   "source": [
    "name = utils.get_name_model(hiddens=hiddens, neurons=neurons)\n",
    "tl_model.save(name)"
   ]
  }
 ],
 "metadata": {
  "kernelspec": {
   "display_name": "Python 3.9 (tensorflow_metal)",
   "language": "python",
   "name": "tensorflow_metal"
  },
  "language_info": {
   "codemirror_mode": {
    "name": "ipython",
    "version": 3
   },
   "file_extension": ".py",
   "mimetype": "text/x-python",
   "name": "python",
   "nbconvert_exporter": "python",
   "pygments_lexer": "ipython3",
   "version": "3.9.7"
  }
 },
 "nbformat": 4,
 "nbformat_minor": 5
}
