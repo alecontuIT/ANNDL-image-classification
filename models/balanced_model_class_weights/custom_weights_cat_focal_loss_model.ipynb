{
 "cells": [
  {
   "cell_type": "markdown",
   "id": "2f9c6ea6",
   "metadata": {},
   "source": [
    "# Imports"
   ]
  },
  {
   "cell_type": "code",
   "execution_count": 1,
   "id": "341d124e",
   "metadata": {},
   "outputs": [
    {
     "name": "stdout",
     "output_type": "stream",
     "text": [
      "Init Plugin\n",
      "Init Graph Optimizer\n",
      "Init Kernel\n"
     ]
    }
   ],
   "source": [
    "import sklearn.utils.class_weight as wgt\n",
    "import numpy as np\n",
    "import tensorflow as tf\n",
    "import os\n",
    "from tensorflow.keras.preprocessing.image import ImageDataGenerator\n",
    "from tensorflow.keras.applications.vgg16 import preprocess_input\n",
    "import sys\n",
    "sys.path.append('../../')\n",
    "import utils\n",
    "import custom_metrics\n",
    "tfk = tf.keras \n",
    "tfkl = tfk.layers"
   ]
  },
  {
   "cell_type": "markdown",
   "id": "49c144f5",
   "metadata": {},
   "source": [
    "# Setting seed for reproducibility"
   ]
  },
  {
   "cell_type": "code",
   "execution_count": 2,
   "id": "7fa9f56b",
   "metadata": {},
   "outputs": [],
   "source": [
    "# Setting random seed\n",
    "seed = 17560\n",
    "np.random.seed(seed)\n",
    "tf.random.set_seed(seed)\n",
    "os.environ['PYTHONHASHSEED'] = str(seed)\n",
    "tf.compat.v1.set_random_seed(seed)"
   ]
  },
  {
   "cell_type": "markdown",
   "id": "915050a8",
   "metadata": {},
   "source": [
    "# Model Building"
   ]
  },
  {
   "cell_type": "code",
   "execution_count": 3,
   "id": "aa972153",
   "metadata": {},
   "outputs": [
    {
     "name": "stdout",
     "output_type": "stream",
     "text": [
      "Found 14176 images belonging to 14 classes.\n",
      "Found 3552 images belonging to 14 classes.\n"
     ]
    }
   ],
   "source": [
    "training_dir = os.path.join('.', 'training')\n",
    "validation_dir = os.path.join('.', 'validation')\n",
    "\n",
    "batch_size = 64\n",
    "epochs = 1000\n",
    "patience = 10\n",
    "input_shape = (256, 256, 3)\n",
    "neurons = [128]\n",
    "hiddens = 1\n",
    "\n",
    "train_data_gen = ImageDataGenerator(preprocessing_function=preprocess_input,\n",
    "                                   rotation_range=45,\n",
    "                                   zoom_range=0.2,\n",
    "                                   horizontal_flip=True,\n",
    "                                   vertical_flip=True,\n",
    "                                   height_shift_range=0.2,\n",
    "                                   width_shift_range=0.2)\n",
    "\n",
    "valid_data_gen = ImageDataGenerator(preprocessing_function=preprocess_input,\n",
    "                                   rotation_range=45,\n",
    "                                   zoom_range=0.2,\n",
    "                                   horizontal_flip=True,\n",
    "                                   vertical_flip=True,\n",
    "                                   height_shift_range=0.2,\n",
    "                                   width_shift_range=0.2)\n",
    "\n",
    "train_gen = train_data_gen.flow_from_directory(directory=training_dir,\n",
    "                                               target_size=input_shape[:2],\n",
    "                                               interpolation='bilinear',\n",
    "                                               color_mode='rgb',\n",
    "                                               batch_size=batch_size,\n",
    "                                               class_mode='categorical',\n",
    "                                               classes=None,\n",
    "                                               shuffle=True,\n",
    "                                               seed=seed)  \n",
    "\n",
    "valid_gen = valid_data_gen.flow_from_directory(directory=validation_dir,\n",
    "                                               target_size=input_shape[:2],\n",
    "                                               interpolation='bilinear',\n",
    "                                               color_mode='rgb',\n",
    "                                               class_mode='categorical',\n",
    "                                               batch_size=batch_size,\n",
    "                                               classes=None,\n",
    "                                               shuffle=False,\n",
    "                                               seed=seed)  \n",
    "                                        "
   ]
  },
  {
   "cell_type": "code",
   "execution_count": 6,
   "id": "a1cdc08d",
   "metadata": {},
   "outputs": [
    {
     "name": "stdout",
     "output_type": "stream",
     "text": [
      "Model: \"model\"\n",
      "_________________________________________________________________\n",
      "Layer (type)                 Output Shape              Param #   \n",
      "=================================================================\n",
      "input_6 (InputLayer)         [(None, 256, 256, 3)]     0         \n",
      "_________________________________________________________________\n",
      "vgg16 (Functional)           (None, 8, 8, 512)         14714688  \n",
      "_________________________________________________________________\n",
      "Flattening (Flatten)         (None, 32768)             0         \n",
      "_________________________________________________________________\n",
      "dropout_2 (Dropout)          (None, 32768)             0         \n",
      "_________________________________________________________________\n",
      "dense_4 (Dense)              (None, 128)               4194432   \n",
      "_________________________________________________________________\n",
      "dense_5 (Dense)              (None, 14)                1806      \n",
      "=================================================================\n",
      "Total params: 18,910,926\n",
      "Trainable params: 4,196,238\n",
      "Non-trainable params: 14,714,688\n",
      "_________________________________________________________________\n"
     ]
    }
   ],
   "source": [
    "tl_model = utils.build_tl_vgg_model(hiddens=hiddens, neurons=neurons, input_shape=input_shape, seed=seed)\n",
    "\n",
    "# Compile the model\n",
    "tl_model.compile(loss=custom_metrics.categorical_focal_loss(), optimizer=tfk.optimizers.Adam(), metrics=utils.metrics())\n",
    "tl_model.summary()"
   ]
  },
  {
   "cell_type": "markdown",
   "id": "14719b11",
   "metadata": {},
   "source": [
    "# Training and Results Visualization"
   ]
  },
  {
   "cell_type": "code",
   "execution_count": null,
   "id": "967fcd3d",
   "metadata": {},
   "outputs": [],
   "source": [
    "tl_history = tl_model.fit(\n",
    "    x = train_gen,\n",
    "    batch_size = batch_size,\n",
    "    epochs = epochs,\n",
    "    validation_data = valid_gen,\n",
    "    callbacks = callbacks(\"val_f1_m\", \"max\", patience, \"custom_weights_cat_focal_loss_model\")\n",
    ").history"
   ]
  },
  {
   "cell_type": "code",
   "execution_count": null,
   "id": "389964a7",
   "metadata": {},
   "outputs": [],
   "source": [
    "name = 'focal_' + utils.get_name_model(hiddens=hiddens, neurons=neurons)\n",
    "tl_model.save(name)\n",
    "del tl_model"
   ]
  },
  {
   "cell_type": "markdown",
   "id": "a31b0357",
   "metadata": {},
   "source": [
    "# Fine Tuning"
   ]
  },
  {
   "cell_type": "code",
   "execution_count": 22,
   "id": "84bb46a4",
   "metadata": {},
   "outputs": [
    {
     "name": "stdout",
     "output_type": "stream",
     "text": [
      "0 input_1 True\n",
      "1 block1_conv1 True\n",
      "2 block1_conv2 True\n",
      "3 block1_pool True\n",
      "4 block2_conv1 True\n",
      "5 block2_conv2 True\n",
      "6 block2_pool True\n",
      "7 block3_conv1 True\n",
      "8 block3_conv2 True\n",
      "9 block3_conv3 True\n",
      "10 block3_pool True\n",
      "11 block4_conv1 True\n",
      "12 block4_conv2 True\n",
      "13 block4_conv3 True\n",
      "14 block4_pool True\n",
      "15 block5_conv1 True\n",
      "16 block5_conv2 True\n",
      "17 block5_conv3 True\n",
      "18 block5_pool True\n",
      "0 input_1 False\n",
      "1 block1_conv1 False\n",
      "2 block1_conv2 False\n",
      "3 block1_pool False\n",
      "4 block2_conv1 False\n",
      "5 block2_conv2 False\n",
      "6 block2_pool False\n",
      "7 block3_conv1 False\n",
      "8 block3_conv2 False\n",
      "9 block3_conv3 False\n",
      "10 block3_pool False\n",
      "11 block4_conv1 False\n",
      "12 block4_conv2 False\n",
      "13 block4_conv3 False\n",
      "14 block4_pool True\n",
      "15 block5_conv1 True\n",
      "16 block5_conv2 True\n",
      "17 block5_conv3 True\n",
      "18 block5_pool True\n",
      "Model: \"model\"\n",
      "_________________________________________________________________\n",
      "Layer (type)                 Output Shape              Param #   \n",
      "=================================================================\n",
      "input_2 (InputLayer)         [(None, 256, 256, 3)]     0         \n",
      "_________________________________________________________________\n",
      "vgg16 (Functional)           (None, 8, 8, 512)         14714688  \n",
      "_________________________________________________________________\n",
      "Flattening (Flatten)         (None, 32768)             0         \n",
      "_________________________________________________________________\n",
      "dropout (Dropout)            (None, 32768)             0         \n",
      "_________________________________________________________________\n",
      "dense (Dense)                (None, 128)               4194432   \n",
      "_________________________________________________________________\n",
      "dense_1 (Dense)              (None, 14)                1806      \n",
      "=================================================================\n",
      "Total params: 18,910,926\n",
      "Trainable params: 11,275,662\n",
      "Non-trainable params: 7,635,264\n",
      "_________________________________________________________________\n",
      "Epoch 1/1000\n"
     ]
    },
    {
     "name": "stderr",
     "output_type": "stream",
     "text": [
      "2021-11-27 03:24:18.060889: I tensorflow/core/grappler/optimizers/custom_graph_optimizer_registry.cc:112] Plugin optimizer for device_type GPU is enabled.\n"
     ]
    },
    {
     "name": "stdout",
     "output_type": "stream",
     "text": [
      "222/222 [==============================] - ETA: 0s - loss: 0.0421 - accuracy: 0.9250 - precision_m: 0.9424 - recall_m: 0.9073 - f1_m: 0.9243 - cat_acc: 0.9250 - tp: 12861.0000 - fp: 784.0000 - tn: 183504.0000 - fn: 1315.0000 - precision: 0.9425 - recall: 0.9072 - auc: 0.9944 - prc: 0.9710"
     ]
    },
    {
     "name": "stderr",
     "output_type": "stream",
     "text": [
      "2021-11-27 03:27:55.691665: I tensorflow/core/grappler/optimizers/custom_graph_optimizer_registry.cc:112] Plugin optimizer for device_type GPU is enabled.\n"
     ]
    },
    {
     "name": "stdout",
     "output_type": "stream",
     "text": [
      "222/222 [==============================] - 264s 1s/step - loss: 0.0421 - accuracy: 0.9250 - precision_m: 0.9424 - recall_m: 0.9073 - f1_m: 0.9243 - cat_acc: 0.9250 - tp: 12861.0000 - fp: 784.0000 - tn: 183504.0000 - fn: 1315.0000 - precision: 0.9425 - recall: 0.9072 - auc: 0.9944 - prc: 0.9710 - val_loss: 0.0190 - val_accuracy: 0.9626 - val_precision_m: 0.9709 - val_recall_m: 0.9573 - val_f1_m: 0.9640 - val_cat_acc: 0.9626 - val_tp: 3399.0000 - val_fp: 102.0000 - val_tn: 46074.0000 - val_fn: 153.0000 - val_precision: 0.9709 - val_recall: 0.9569 - val_auc: 0.9980 - val_prc: 0.9898\n",
      "INFO:tensorflow:Assets written to: ./ckpts-focal/cp_last.ckpt/assets\n",
      "INFO:tensorflow:Assets written to: ./ckpts-focal/cp_best.ckpt/assets\n",
      "Epoch 2/1000\n",
      "222/222 [==============================] - 373s 2s/step - loss: 0.0222 - accuracy: 0.9527 - precision_m: 0.9632 - recall_m: 0.9419 - f1_m: 0.9523 - cat_acc: 0.9527 - tp: 13350.0000 - fp: 511.0000 - tn: 183777.0000 - fn: 826.0000 - precision: 0.9631 - recall: 0.9417 - auc: 0.9974 - prc: 0.9869 - val_loss: 0.0136 - val_accuracy: 0.9668 - val_precision_m: 0.9746 - val_recall_m: 0.9565 - val_f1_m: 0.9653 - val_cat_acc: 0.9668 - val_tp: 3396.0000 - val_fp: 88.0000 - val_tn: 46088.0000 - val_fn: 156.0000 - val_precision: 0.9747 - val_recall: 0.9561 - val_auc: 0.9990 - val_prc: 0.9931\n",
      "INFO:tensorflow:Assets written to: ./ckpts-focal/cp_last.ckpt/assets\n",
      "INFO:tensorflow:Assets written to: ./ckpts-focal/cp_best.ckpt/assets\n",
      "Epoch 3/1000\n",
      "222/222 [==============================] - 470s 2s/step - loss: 0.0150 - accuracy: 0.9679 - precision_m: 0.9766 - recall_m: 0.9593 - f1_m: 0.9678 - cat_acc: 0.9679 - tp: 13600.0000 - fp: 325.0000 - tn: 183963.0000 - fn: 576.0000 - precision: 0.9767 - recall: 0.9594 - auc: 0.9986 - prc: 0.9929 - val_loss: 0.0143 - val_accuracy: 0.9724 - val_precision_m: 0.9771 - val_recall_m: 0.9701 - val_f1_m: 0.9735 - val_cat_acc: 0.9724 - val_tp: 3445.0000 - val_fp: 81.0000 - val_tn: 46095.0000 - val_fn: 107.0000 - val_precision: 0.9770 - val_recall: 0.9699 - val_auc: 0.9985 - val_prc: 0.9933\n",
      "INFO:tensorflow:Assets written to: ./ckpts-focal/cp_last.ckpt/assets\n",
      "Epoch 4/1000\n",
      "222/222 [==============================] - 413s 2s/step - loss: 0.0190 - accuracy: 0.9642 - precision_m: 0.9723 - recall_m: 0.9581 - f1_m: 0.9651 - cat_acc: 0.9642 - tp: 13582.0000 - fp: 386.0000 - tn: 183902.0000 - fn: 594.0000 - precision: 0.9724 - recall: 0.9581 - auc: 0.9981 - prc: 0.9911 - val_loss: 0.0215 - val_accuracy: 0.9654 - val_precision_m: 0.9704 - val_recall_m: 0.9579 - val_f1_m: 0.9639 - val_cat_acc: 0.9654 - val_tp: 3401.0000 - val_fp: 101.0000 - val_tn: 46075.0000 - val_fn: 151.0000 - val_precision: 0.9712 - val_recall: 0.9575 - val_auc: 0.9974 - val_prc: 0.9892\n",
      "INFO:tensorflow:Assets written to: ./ckpts-focal/cp_last.ckpt/assets\n",
      "Epoch 5/1000\n",
      "222/222 [==============================] - 411s 2s/step - loss: 0.0189 - accuracy: 0.9650 - precision_m: 0.9718 - recall_m: 0.9579 - f1_m: 0.9647 - cat_acc: 0.9650 - tp: 13580.0000 - fp: 393.0000 - tn: 183895.0000 - fn: 596.0000 - precision: 0.9719 - recall: 0.9580 - auc: 0.9981 - prc: 0.9908 - val_loss: 0.0123 - val_accuracy: 0.9814 - val_precision_m: 0.9856 - val_recall_m: 0.9774 - val_f1_m: 0.9814 - val_cat_acc: 0.9814 - val_tp: 3471.0000 - val_fp: 51.0000 - val_tn: 46125.0000 - val_fn: 81.0000 - val_precision: 0.9855 - val_recall: 0.9772 - val_auc: 0.9983 - val_prc: 0.9946\n",
      "INFO:tensorflow:Assets written to: ./ckpts-focal/cp_last.ckpt/assets\n",
      "INFO:tensorflow:Assets written to: ./ckpts-focal/cp_best.ckpt/assets\n",
      "Epoch 6/1000\n",
      "222/222 [==============================] - 407s 2s/step - loss: 0.0084 - accuracy: 0.9788 - precision_m: 0.9833 - recall_m: 0.9741 - f1_m: 0.9786 - cat_acc: 0.9788 - tp: 13808.0000 - fp: 235.0000 - tn: 184053.0000 - fn: 368.0000 - precision: 0.9833 - recall: 0.9740 - auc: 0.9995 - prc: 0.9967 - val_loss: 0.0110 - val_accuracy: 0.9778 - val_precision_m: 0.9820 - val_recall_m: 0.9768 - val_f1_m: 0.9794 - val_cat_acc: 0.9778 - val_tp: 3469.0000 - val_fp: 64.0000 - val_tn: 46112.0000 - val_fn: 83.0000 - val_precision: 0.9819 - val_recall: 0.9766 - val_auc: 0.9988 - val_prc: 0.9955\n",
      "INFO:tensorflow:Assets written to: ./ckpts-focal/cp_last.ckpt/assets\n",
      "INFO:tensorflow:Assets written to: ./ckpts-focal/cp_best.ckpt/assets\n",
      "Epoch 7/1000\n",
      "222/222 [==============================] - 411s 2s/step - loss: 0.0090 - accuracy: 0.9800 - precision_m: 0.9852 - recall_m: 0.9750 - f1_m: 0.9800 - cat_acc: 0.9800 - tp: 13822.0000 - fp: 207.0000 - tn: 184081.0000 - fn: 354.0000 - precision: 0.9852 - recall: 0.9750 - auc: 0.9994 - prc: 0.9963 - val_loss: 0.0102 - val_accuracy: 0.9823 - val_precision_m: 0.9862 - val_recall_m: 0.9799 - val_f1_m: 0.9830 - val_cat_acc: 0.9823 - val_tp: 3480.0000 - val_fp: 49.0000 - val_tn: 46127.0000 - val_fn: 72.0000 - val_precision: 0.9861 - val_recall: 0.9797 - val_auc: 0.9986 - val_prc: 0.9954\n",
      "INFO:tensorflow:Assets written to: ./ckpts-focal/cp_last.ckpt/assets\n",
      "INFO:tensorflow:Assets written to: ./ckpts-focal/cp_best.ckpt/assets\n",
      "Epoch 8/1000\n",
      "222/222 [==============================] - 414s 2s/step - loss: 0.0068 - accuracy: 0.9843 - precision_m: 0.9872 - recall_m: 0.9797 - f1_m: 0.9834 - cat_acc: 0.9843 - tp: 13890.0000 - fp: 178.0000 - tn: 184110.0000 - fn: 286.0000 - precision: 0.9873 - recall: 0.9798 - auc: 0.9995 - prc: 0.9976 - val_loss: 0.0079 - val_accuracy: 0.9831 - val_precision_m: 0.9878 - val_recall_m: 0.9794 - val_f1_m: 0.9835 - val_cat_acc: 0.9831 - val_tp: 3478.0000 - val_fp: 43.0000 - val_tn: 46133.0000 - val_fn: 74.0000 - val_precision: 0.9878 - val_recall: 0.9792 - val_auc: 0.9995 - val_prc: 0.9976\n",
      "INFO:tensorflow:Assets written to: ./ckpts-focal/cp_last.ckpt/assets\n",
      "INFO:tensorflow:Assets written to: ./ckpts-focal/cp_best.ckpt/assets\n",
      "Epoch 9/1000\n",
      "222/222 [==============================] - 411s 2s/step - loss: 0.0093 - accuracy: 0.9817 - precision_m: 0.9857 - recall_m: 0.9762 - f1_m: 0.9809 - cat_acc: 0.9817 - tp: 13839.0000 - fp: 201.0000 - tn: 184087.0000 - fn: 337.0000 - precision: 0.9857 - recall: 0.9762 - auc: 0.9990 - prc: 0.9960 - val_loss: 0.0169 - val_accuracy: 0.9659 - val_precision_m: 0.9706 - val_recall_m: 0.9551 - val_f1_m: 0.9625 - val_cat_acc: 0.9659 - val_tp: 3391.0000 - val_fp: 98.0000 - val_tn: 46078.0000 - val_fn: 161.0000 - val_precision: 0.9719 - val_recall: 0.9547 - val_auc: 0.9984 - val_prc: 0.9930\n",
      "INFO:tensorflow:Assets written to: ./ckpts-focal/cp_last.ckpt/assets\n",
      "Epoch 10/1000\n",
      "222/222 [==============================] - 413s 2s/step - loss: 0.0084 - accuracy: 0.9817 - precision_m: 0.9847 - recall_m: 0.9761 - f1_m: 0.9803 - cat_acc: 0.9817 - tp: 13840.0000 - fp: 212.0000 - tn: 184076.0000 - fn: 336.0000 - precision: 0.9849 - recall: 0.9763 - auc: 0.9993 - prc: 0.9967 - val_loss: 0.0077 - val_accuracy: 0.9814 - val_precision_m: 0.9851 - val_recall_m: 0.9774 - val_f1_m: 0.9812 - val_cat_acc: 0.9814 - val_tp: 3471.0000 - val_fp: 53.0000 - val_tn: 46123.0000 - val_fn: 81.0000 - val_precision: 0.9850 - val_recall: 0.9772 - val_auc: 0.9994 - val_prc: 0.9973\n",
      "INFO:tensorflow:Assets written to: ./ckpts-focal/cp_last.ckpt/assets\n",
      "INFO:tensorflow:Assets written to: ./ckpts-focal/cp_best.ckpt/assets\n",
      "Epoch 11/1000\n",
      "222/222 [==============================] - 413s 2s/step - loss: 0.0074 - accuracy: 0.9815 - precision_m: 0.9853 - recall_m: 0.9772 - f1_m: 0.9812 - cat_acc: 0.9815 - tp: 13852.0000 - fp: 207.0000 - tn: 184081.0000 - fn: 324.0000 - precision: 0.9853 - recall: 0.9771 - auc: 0.9995 - prc: 0.9976 - val_loss: 0.0097 - val_accuracy: 0.9862 - val_precision_m: 0.9887 - val_recall_m: 0.9838 - val_f1_m: 0.9862 - val_cat_acc: 0.9862 - val_tp: 3494.0000 - val_fp: 40.0000 - val_tn: 46136.0000 - val_fn: 58.0000 - val_precision: 0.9887 - val_recall: 0.9837 - val_auc: 0.9983 - val_prc: 0.9950\n",
      "INFO:tensorflow:Assets written to: ./ckpts-focal/cp_last.ckpt/assets\n",
      "Epoch 12/1000\n",
      "222/222 [==============================] - 415s 2s/step - loss: 0.0092 - accuracy: 0.9799 - precision_m: 0.9838 - recall_m: 0.9750 - f1_m: 0.9794 - cat_acc: 0.9799 - tp: 13821.0000 - fp: 227.0000 - tn: 184061.0000 - fn: 355.0000 - precision: 0.9838 - recall: 0.9750 - auc: 0.9992 - prc: 0.9963 - val_loss: 0.0086 - val_accuracy: 0.9840 - val_precision_m: 0.9873 - val_recall_m: 0.9788 - val_f1_m: 0.9830 - val_cat_acc: 0.9840 - val_tp: 3476.0000 - val_fp: 45.0000 - val_tn: 46131.0000 - val_fn: 76.0000 - val_precision: 0.9872 - val_recall: 0.9786 - val_auc: 0.9989 - val_prc: 0.9960\n"
     ]
    },
    {
     "name": "stdout",
     "output_type": "stream",
     "text": [
      "INFO:tensorflow:Assets written to: ./ckpts-focal/cp_last.ckpt/assets\n",
      "Epoch 13/1000\n",
      "222/222 [==============================] - 415s 2s/step - loss: 0.0071 - accuracy: 0.9834 - precision_m: 0.9870 - recall_m: 0.9790 - f1_m: 0.9829 - cat_acc: 0.9834 - tp: 13877.0000 - fp: 183.0000 - tn: 184105.0000 - fn: 299.0000 - precision: 0.9870 - recall: 0.9789 - auc: 0.9995 - prc: 0.9976 - val_loss: 0.0061 - val_accuracy: 0.9868 - val_precision_m: 0.9896 - val_recall_m: 0.9841 - val_f1_m: 0.9868 - val_cat_acc: 0.9868 - val_tp: 3495.0000 - val_fp: 37.0000 - val_tn: 46139.0000 - val_fn: 57.0000 - val_precision: 0.9895 - val_recall: 0.9840 - val_auc: 0.9997 - val_prc: 0.9983\n",
      "INFO:tensorflow:Assets written to: ./ckpts-focal/cp_last.ckpt/assets\n",
      "INFO:tensorflow:Assets written to: ./ckpts-focal/cp_best.ckpt/assets\n",
      "Epoch 14/1000\n",
      "222/222 [==============================] - 415s 2s/step - loss: 0.0053 - accuracy: 0.9862 - precision_m: 0.9891 - recall_m: 0.9830 - f1_m: 0.9860 - cat_acc: 0.9862 - tp: 13936.0000 - fp: 154.0000 - tn: 184134.0000 - fn: 240.0000 - precision: 0.9891 - recall: 0.9831 - auc: 0.9995 - prc: 0.9981 - val_loss: 0.0162 - val_accuracy: 0.9769 - val_precision_m: 0.9801 - val_recall_m: 0.9754 - val_f1_m: 0.9777 - val_cat_acc: 0.9769 - val_tp: 3464.0000 - val_fp: 71.0000 - val_tn: 46105.0000 - val_fn: 88.0000 - val_precision: 0.9799 - val_recall: 0.9752 - val_auc: 0.9982 - val_prc: 0.9943\n",
      "INFO:tensorflow:Assets written to: ./ckpts-focal/cp_last.ckpt/assets\n",
      "Epoch 15/1000\n",
      "222/222 [==============================] - 412s 2s/step - loss: 0.0048 - accuracy: 0.9888 - precision_m: 0.9910 - recall_m: 0.9860 - f1_m: 0.9885 - cat_acc: 0.9888 - tp: 13977.0000 - fp: 127.0000 - tn: 184161.0000 - fn: 199.0000 - precision: 0.9910 - recall: 0.9860 - auc: 0.9997 - prc: 0.9986 - val_loss: 0.0092 - val_accuracy: 0.9862 - val_precision_m: 0.9879 - val_recall_m: 0.9849 - val_f1_m: 0.9864 - val_cat_acc: 0.9862 - val_tp: 3498.0000 - val_fp: 43.0000 - val_tn: 46133.0000 - val_fn: 54.0000 - val_precision: 0.9879 - val_recall: 0.9848 - val_auc: 0.9992 - val_prc: 0.9975\n",
      "INFO:tensorflow:Assets written to: ./ckpts-focal/cp_last.ckpt/assets\n",
      "Epoch 16/1000\n",
      "222/222 [==============================] - 410s 2s/step - loss: 0.0036 - accuracy: 0.9901 - precision_m: 0.9915 - recall_m: 0.9885 - f1_m: 0.9899 - cat_acc: 0.9901 - tp: 14012.0000 - fp: 121.0000 - tn: 184167.0000 - fn: 164.0000 - precision: 0.9914 - recall: 0.9884 - auc: 0.9998 - prc: 0.9990 - val_loss: 0.0096 - val_accuracy: 0.9885 - val_precision_m: 0.9905 - val_recall_m: 0.9860 - val_f1_m: 0.9882 - val_cat_acc: 0.9885 - val_tp: 3503.0000 - val_fp: 33.0000 - val_tn: 46143.0000 - val_fn: 49.0000 - val_precision: 0.9907 - val_recall: 0.9862 - val_auc: 0.9990 - val_prc: 0.9969\n",
      "INFO:tensorflow:Assets written to: ./ckpts-focal/cp_last.ckpt/assets\n",
      "Epoch 17/1000\n",
      "222/222 [==============================] - 414s 2s/step - loss: 0.0060 - accuracy: 0.9857 - precision_m: 0.9882 - recall_m: 0.9829 - f1_m: 0.9855 - cat_acc: 0.9857 - tp: 13933.0000 - fp: 166.0000 - tn: 184122.0000 - fn: 243.0000 - precision: 0.9882 - recall: 0.9829 - auc: 0.9997 - prc: 0.9983 - val_loss: 0.0077 - val_accuracy: 0.9851 - val_precision_m: 0.9877 - val_recall_m: 0.9830 - val_f1_m: 0.9853 - val_cat_acc: 0.9851 - val_tp: 3491.0000 - val_fp: 43.0000 - val_tn: 46133.0000 - val_fn: 61.0000 - val_precision: 0.9878 - val_recall: 0.9828 - val_auc: 0.9992 - val_prc: 0.9976\n",
      "INFO:tensorflow:Assets written to: ./ckpts-focal/cp_last.ckpt/assets\n",
      "Epoch 18/1000\n",
      "222/222 [==============================] - 418s 2s/step - loss: 0.0043 - accuracy: 0.9880 - precision_m: 0.9904 - recall_m: 0.9855 - f1_m: 0.9879 - cat_acc: 0.9880 - tp: 13971.0000 - fp: 135.0000 - tn: 184153.0000 - fn: 205.0000 - precision: 0.9904 - recall: 0.9855 - auc: 0.9997 - prc: 0.9987 - val_loss: 0.0162 - val_accuracy: 0.9789 - val_precision_m: 0.9810 - val_recall_m: 0.9771 - val_f1_m: 0.9790 - val_cat_acc: 0.9789 - val_tp: 3470.0000 - val_fp: 68.0000 - val_tn: 46108.0000 - val_fn: 82.0000 - val_precision: 0.9808 - val_recall: 0.9769 - val_auc: 0.9971 - val_prc: 0.9897\n",
      "INFO:tensorflow:Assets written to: ./ckpts-focal/cp_last.ckpt/assets\n",
      "Epoch 19/1000\n",
      "222/222 [==============================] - 413s 2s/step - loss: 0.0042 - accuracy: 0.9908 - precision_m: 0.9920 - recall_m: 0.9883 - f1_m: 0.9902 - cat_acc: 0.9908 - tp: 14010.0000 - fp: 113.0000 - tn: 184175.0000 - fn: 166.0000 - precision: 0.9920 - recall: 0.9883 - auc: 0.9997 - prc: 0.9986 - val_loss: 0.0061 - val_accuracy: 0.9882 - val_precision_m: 0.9896 - val_recall_m: 0.9869 - val_f1_m: 0.9882 - val_cat_acc: 0.9882 - val_tp: 3505.0000 - val_fp: 37.0000 - val_tn: 46139.0000 - val_fn: 47.0000 - val_precision: 0.9896 - val_recall: 0.9868 - val_auc: 0.9995 - val_prc: 0.9985\n",
      "INFO:tensorflow:Assets written to: ./ckpts-focal/cp_last.ckpt/assets\n",
      "INFO:tensorflow:Assets written to: ./ckpts-focal/cp_best.ckpt/assets\n",
      "Epoch 20/1000\n",
      "222/222 [==============================] - 413s 2s/step - loss: 0.0039 - accuracy: 0.9899 - precision_m: 0.9918 - recall_m: 0.9875 - f1_m: 0.9897 - cat_acc: 0.9899 - tp: 13999.0000 - fp: 116.0000 - tn: 184172.0000 - fn: 177.0000 - precision: 0.9918 - recall: 0.9875 - auc: 0.9998 - prc: 0.9989 - val_loss: 0.0080 - val_accuracy: 0.9862 - val_precision_m: 0.9879 - val_recall_m: 0.9838 - val_f1_m: 0.9858 - val_cat_acc: 0.9862 - val_tp: 3494.0000 - val_fp: 43.0000 - val_tn: 46133.0000 - val_fn: 58.0000 - val_precision: 0.9878 - val_recall: 0.9837 - val_auc: 0.9990 - val_prc: 0.9971\n",
      "INFO:tensorflow:Assets written to: ./ckpts-focal/cp_last.ckpt/assets\n",
      "Epoch 21/1000\n",
      "222/222 [==============================] - 416s 2s/step - loss: 0.0039 - accuracy: 0.9896 - precision_m: 0.9916 - recall_m: 0.9877 - f1_m: 0.9896 - cat_acc: 0.9896 - tp: 14001.0000 - fp: 119.0000 - tn: 184169.0000 - fn: 175.0000 - precision: 0.9916 - recall: 0.9877 - auc: 0.9998 - prc: 0.9991 - val_loss: 0.0063 - val_accuracy: 0.9899 - val_precision_m: 0.9927 - val_recall_m: 0.9888 - val_f1_m: 0.9907 - val_cat_acc: 0.9899 - val_tp: 3512.0000 - val_fp: 26.0000 - val_tn: 46150.0000 - val_fn: 40.0000 - val_precision: 0.9927 - val_recall: 0.9887 - val_auc: 0.9993 - val_prc: 0.9979\n",
      "INFO:tensorflow:Assets written to: ./ckpts-focal/cp_last.ckpt/assets\n",
      "Epoch 22/1000\n",
      "222/222 [==============================] - 414s 2s/step - loss: 0.0059 - accuracy: 0.9878 - precision_m: 0.9897 - recall_m: 0.9853 - f1_m: 0.9874 - cat_acc: 0.9878 - tp: 13967.0000 - fp: 146.0000 - tn: 184142.0000 - fn: 209.0000 - precision: 0.9897 - recall: 0.9853 - auc: 0.9995 - prc: 0.9979 - val_loss: 0.0186 - val_accuracy: 0.9749 - val_precision_m: 0.9788 - val_recall_m: 0.9727 - val_f1_m: 0.9757 - val_cat_acc: 0.9749 - val_tp: 3454.0000 - val_fp: 75.0000 - val_tn: 46101.0000 - val_fn: 98.0000 - val_precision: 0.9787 - val_recall: 0.9724 - val_auc: 0.9970 - val_prc: 0.9908\n",
      "INFO:tensorflow:Assets written to: ./ckpts-focal/cp_last.ckpt/assets\n",
      "Epoch 23/1000\n",
      "222/222 [==============================] - 412s 2s/step - loss: 0.0103 - accuracy: 0.9818 - precision_m: 0.9851 - recall_m: 0.9787 - f1_m: 0.9818 - cat_acc: 0.9818 - tp: 13873.0000 - fp: 210.0000 - tn: 184078.0000 - fn: 303.0000 - precision: 0.9851 - recall: 0.9786 - auc: 0.9992 - prc: 0.9960 - val_loss: 0.0320 - val_accuracy: 0.9744 - val_precision_m: 0.9776 - val_recall_m: 0.9729 - val_f1_m: 0.9752 - val_cat_acc: 0.9744 - val_tp: 3455.0000 - val_fp: 80.0000 - val_tn: 46096.0000 - val_fn: 97.0000 - val_precision: 0.9774 - val_recall: 0.9727 - val_auc: 0.9957 - val_prc: 0.9849\n",
      "INFO:tensorflow:Assets written to: ./ckpts-focal/cp_last.ckpt/assets\n",
      "Epoch 24/1000\n",
      "222/222 [==============================] - 413s 2s/step - loss: 0.0071 - accuracy: 0.9867 - precision_m: 0.9883 - recall_m: 0.9839 - f1_m: 0.9861 - cat_acc: 0.9867 - tp: 13947.0000 - fp: 165.0000 - tn: 184123.0000 - fn: 229.0000 - precision: 0.9883 - recall: 0.9838 - auc: 0.9993 - prc: 0.9975 - val_loss: 0.0113 - val_accuracy: 0.9786 - val_precision_m: 0.9816 - val_recall_m: 0.9757 - val_f1_m: 0.9786 - val_cat_acc: 0.9786 - val_tp: 3465.0000 - val_fp: 65.0000 - val_tn: 46111.0000 - val_fn: 87.0000 - val_precision: 0.9816 - val_recall: 0.9755 - val_auc: 0.9991 - val_prc: 0.9969\n",
      "INFO:tensorflow:Assets written to: ./ckpts-focal/cp_last.ckpt/assets\n"
     ]
    },
    {
     "name": "stdout",
     "output_type": "stream",
     "text": [
      "Epoch 25/1000\n",
      "222/222 [==============================] - 415s 2s/step - loss: 0.0077 - accuracy: 0.9867 - precision_m: 0.9889 - recall_m: 0.9837 - f1_m: 0.9863 - cat_acc: 0.9867 - tp: 13944.0000 - fp: 156.0000 - tn: 184132.0000 - fn: 232.0000 - precision: 0.9889 - recall: 0.9836 - auc: 0.9994 - prc: 0.9974 - val_loss: 0.0087 - val_accuracy: 0.9809 - val_precision_m: 0.9837 - val_recall_m: 0.9774 - val_f1_m: 0.9805 - val_cat_acc: 0.9809 - val_tp: 3471.0000 - val_fp: 58.0000 - val_tn: 46118.0000 - val_fn: 81.0000 - val_precision: 0.9836 - val_recall: 0.9772 - val_auc: 0.9991 - val_prc: 0.9970\n",
      "INFO:tensorflow:Assets written to: ./ckpts-focal/cp_last.ckpt/assets\n",
      "Epoch 26/1000\n",
      "222/222 [==============================] - 413s 2s/step - loss: 0.0051 - accuracy: 0.9904 - precision_m: 0.9920 - recall_m: 0.9878 - f1_m: 0.9899 - cat_acc: 0.9904 - tp: 14003.0000 - fp: 113.0000 - tn: 184175.0000 - fn: 173.0000 - precision: 0.9920 - recall: 0.9878 - auc: 0.9995 - prc: 0.9980 - val_loss: 0.0077 - val_accuracy: 0.9862 - val_precision_m: 0.9888 - val_recall_m: 0.9816 - val_f1_m: 0.9851 - val_cat_acc: 0.9862 - val_tp: 3486.0000 - val_fp: 39.0000 - val_tn: 46137.0000 - val_fn: 66.0000 - val_precision: 0.9889 - val_recall: 0.9814 - val_auc: 0.9993 - val_prc: 0.9975\n",
      "INFO:tensorflow:Assets written to: ./ckpts-focal/cp_last.ckpt/assets\n",
      "Epoch 27/1000\n",
      "222/222 [==============================] - 416s 2s/step - loss: 0.0039 - accuracy: 0.9915 - precision_m: 0.9932 - recall_m: 0.9885 - f1_m: 0.9908 - cat_acc: 0.9915 - tp: 14013.0000 - fp: 96.0000 - tn: 184192.0000 - fn: 163.0000 - precision: 0.9932 - recall: 0.9885 - auc: 0.9997 - prc: 0.9987 - val_loss: 0.0049 - val_accuracy: 0.9930 - val_precision_m: 0.9944 - val_recall_m: 0.9919 - val_f1_m: 0.9931 - val_cat_acc: 0.9930 - val_tp: 3523.0000 - val_fp: 20.0000 - val_tn: 46156.0000 - val_fn: 29.0000 - val_precision: 0.9944 - val_recall: 0.9918 - val_auc: 0.9994 - val_prc: 0.9983\n",
      "INFO:tensorflow:Assets written to: ./ckpts-focal/cp_last.ckpt/assets\n",
      "INFO:tensorflow:Assets written to: ./ckpts-focal/cp_best.ckpt/assets\n",
      "Epoch 28/1000\n",
      "222/222 [==============================] - 417s 2s/step - loss: 0.0037 - accuracy: 0.9913 - precision_m: 0.9937 - recall_m: 0.9899 - f1_m: 0.9918 - cat_acc: 0.9913 - tp: 14032.0000 - fp: 89.0000 - tn: 184199.0000 - fn: 144.0000 - precision: 0.9937 - recall: 0.9898 - auc: 0.9997 - prc: 0.9990 - val_loss: 0.0065 - val_accuracy: 0.9882 - val_precision_m: 0.9904 - val_recall_m: 0.9872 - val_f1_m: 0.9888 - val_cat_acc: 0.9882 - val_tp: 3506.0000 - val_fp: 34.0000 - val_tn: 46142.0000 - val_fn: 46.0000 - val_precision: 0.9904 - val_recall: 0.9870 - val_auc: 0.9993 - val_prc: 0.9981\n",
      "INFO:tensorflow:Assets written to: ./ckpts-focal/cp_last.ckpt/assets\n",
      "Epoch 29/1000\n",
      "222/222 [==============================] - 414s 2s/step - loss: 0.0037 - accuracy: 0.9917 - precision_m: 0.9932 - recall_m: 0.9909 - f1_m: 0.9921 - cat_acc: 0.9917 - tp: 14047.0000 - fp: 96.0000 - tn: 184192.0000 - fn: 129.0000 - precision: 0.9932 - recall: 0.9909 - auc: 0.9998 - prc: 0.9992 - val_loss: 0.0081 - val_accuracy: 0.9854 - val_precision_m: 0.9887 - val_recall_m: 0.9835 - val_f1_m: 0.9861 - val_cat_acc: 0.9854 - val_tp: 3493.0000 - val_fp: 40.0000 - val_tn: 46136.0000 - val_fn: 59.0000 - val_precision: 0.9887 - val_recall: 0.9834 - val_auc: 0.9991 - val_prc: 0.9975\n",
      "INFO:tensorflow:Assets written to: ./ckpts-focal/cp_last.ckpt/assets\n",
      "Epoch 30/1000\n",
      "222/222 [==============================] - 412s 2s/step - loss: 0.0043 - accuracy: 0.9912 - precision_m: 0.9927 - recall_m: 0.9891 - f1_m: 0.9909 - cat_acc: 0.9912 - tp: 14021.0000 - fp: 103.0000 - tn: 184185.0000 - fn: 155.0000 - precision: 0.9927 - recall: 0.9891 - auc: 0.9996 - prc: 0.9986 - val_loss: 0.0092 - val_accuracy: 0.9873 - val_precision_m: 0.9894 - val_recall_m: 0.9860 - val_f1_m: 0.9877 - val_cat_acc: 0.9873 - val_tp: 3502.0000 - val_fp: 38.0000 - val_tn: 46138.0000 - val_fn: 50.0000 - val_precision: 0.9893 - val_recall: 0.9859 - val_auc: 0.9989 - val_prc: 0.9976\n",
      "INFO:tensorflow:Assets written to: ./ckpts-focal/cp_last.ckpt/assets\n",
      "Epoch 31/1000\n",
      "222/222 [==============================] - 418s 2s/step - loss: 0.0061 - accuracy: 0.9871 - precision_m: 0.9893 - recall_m: 0.9851 - f1_m: 0.9871 - cat_acc: 0.9871 - tp: 13964.0000 - fp: 152.0000 - tn: 184136.0000 - fn: 212.0000 - precision: 0.9892 - recall: 0.9850 - auc: 0.9993 - prc: 0.9980 - val_loss: 0.0133 - val_accuracy: 0.9769 - val_precision_m: 0.9813 - val_recall_m: 0.9752 - val_f1_m: 0.9781 - val_cat_acc: 0.9769 - val_tp: 3463.0000 - val_fp: 66.0000 - val_tn: 46110.0000 - val_fn: 89.0000 - val_precision: 0.9813 - val_recall: 0.9749 - val_auc: 0.9986 - val_prc: 0.9950\n",
      "INFO:tensorflow:Assets written to: ./ckpts-focal/cp_last.ckpt/assets\n",
      "Epoch 32/1000\n",
      "222/222 [==============================] - 416s 2s/step - loss: 0.0089 - accuracy: 0.9856 - precision_m: 0.9880 - recall_m: 0.9835 - f1_m: 0.9858 - cat_acc: 0.9856 - tp: 13943.0000 - fp: 169.0000 - tn: 184119.0000 - fn: 233.0000 - precision: 0.9880 - recall: 0.9836 - auc: 0.9992 - prc: 0.9969 - val_loss: 0.0059 - val_accuracy: 0.9904 - val_precision_m: 0.9916 - val_recall_m: 0.9888 - val_f1_m: 0.9902 - val_cat_acc: 0.9904 - val_tp: 3512.0000 - val_fp: 30.0000 - val_tn: 46146.0000 - val_fn: 40.0000 - val_precision: 0.9915 - val_recall: 0.9887 - val_auc: 0.9991 - val_prc: 0.9979\n",
      "INFO:tensorflow:Assets written to: ./ckpts-focal/cp_last.ckpt/assets\n",
      "Epoch 33/1000\n",
      "222/222 [==============================] - 411s 2s/step - loss: 0.0028 - accuracy: 0.9942 - precision_m: 0.9949 - recall_m: 0.9929 - f1_m: 0.9939 - cat_acc: 0.9942 - tp: 14075.0000 - fp: 72.0000 - tn: 184216.0000 - fn: 101.0000 - precision: 0.9949 - recall: 0.9929 - auc: 0.9998 - prc: 0.9992 - val_loss: 0.0060 - val_accuracy: 0.9887 - val_precision_m: 0.9908 - val_recall_m: 0.9877 - val_f1_m: 0.9892 - val_cat_acc: 0.9887 - val_tp: 3508.0000 - val_fp: 33.0000 - val_tn: 46143.0000 - val_fn: 44.0000 - val_precision: 0.9907 - val_recall: 0.9876 - val_auc: 0.9994 - val_prc: 0.9984\n",
      "INFO:tensorflow:Assets written to: ./ckpts-focal/cp_last.ckpt/assets\n",
      "Epoch 34/1000\n",
      "222/222 [==============================] - 415s 2s/step - loss: 0.0034 - accuracy: 0.9923 - precision_m: 0.9934 - recall_m: 0.9911 - f1_m: 0.9922 - cat_acc: 0.9923 - tp: 14049.0000 - fp: 94.0000 - tn: 184194.0000 - fn: 127.0000 - precision: 0.9934 - recall: 0.9910 - auc: 0.9998 - prc: 0.9991 - val_loss: 0.0099 - val_accuracy: 0.9837 - val_precision_m: 0.9848 - val_recall_m: 0.9816 - val_f1_m: 0.9832 - val_cat_acc: 0.9837 - val_tp: 3486.0000 - val_fp: 54.0000 - val_tn: 46122.0000 - val_fn: 66.0000 - val_precision: 0.9847 - val_recall: 0.9814 - val_auc: 0.9985 - val_prc: 0.9950\n",
      "INFO:tensorflow:Assets written to: ./ckpts-focal/cp_last.ckpt/assets\n",
      "Epoch 35/1000\n",
      "222/222 [==============================] - 416s 2s/step - loss: 0.0027 - accuracy: 0.9932 - precision_m: 0.9944 - recall_m: 0.9911 - f1_m: 0.9927 - cat_acc: 0.9932 - tp: 14050.0000 - fp: 80.0000 - tn: 184208.0000 - fn: 126.0000 - precision: 0.9943 - recall: 0.9911 - auc: 0.9999 - prc: 0.9995 - val_loss: 0.0075 - val_accuracy: 0.9876 - val_precision_m: 0.9897 - val_recall_m: 0.9874 - val_f1_m: 0.9885 - val_cat_acc: 0.9876 - val_tp: 3507.0000 - val_fp: 37.0000 - val_tn: 46139.0000 - val_fn: 45.0000 - val_precision: 0.9896 - val_recall: 0.9873 - val_auc: 0.9986 - val_prc: 0.9965\n",
      "INFO:tensorflow:Assets written to: ./ckpts-focal/cp_last.ckpt/assets\n",
      "Epoch 36/1000\n",
      "222/222 [==============================] - 412s 2s/step - loss: 0.0016 - accuracy: 0.9947 - precision_m: 0.9955 - recall_m: 0.9937 - f1_m: 0.9946 - cat_acc: 0.9947 - tp: 14087.0000 - fp: 63.0000 - tn: 184225.0000 - fn: 89.0000 - precision: 0.9955 - recall: 0.9937 - auc: 1.0000 - prc: 0.9998 - val_loss: 0.0060 - val_accuracy: 0.9904 - val_precision_m: 0.9924 - val_recall_m: 0.9888 - val_f1_m: 0.9906 - val_cat_acc: 0.9904 - val_tp: 3512.0000 - val_fp: 27.0000 - val_tn: 46149.0000 - val_fn: 40.0000 - val_precision: 0.9924 - val_recall: 0.9887 - val_auc: 0.9994 - val_prc: 0.9987\n",
      "INFO:tensorflow:Assets written to: ./ckpts-focal/cp_last.ckpt/assets\n",
      "Epoch 37/1000\n",
      "222/222 [==============================] - 415s 2s/step - loss: 0.0017 - accuracy: 0.9949 - precision_m: 0.9955 - recall_m: 0.9942 - f1_m: 0.9948 - cat_acc: 0.9949 - tp: 14093.0000 - fp: 64.0000 - tn: 184224.0000 - fn: 83.0000 - precision: 0.9955 - recall: 0.9941 - auc: 0.9999 - prc: 0.9995 - val_loss: 0.0063 - val_accuracy: 0.9904 - val_precision_m: 0.9907 - val_recall_m: 0.9897 - val_f1_m: 0.9902 - val_cat_acc: 0.9904 - val_tp: 3515.0000 - val_fp: 33.0000 - val_tn: 46143.0000 - val_fn: 37.0000 - val_precision: 0.9907 - val_recall: 0.9896 - val_auc: 0.9989 - val_prc: 0.9971\n",
      "INFO:tensorflow:Assets written to: ./ckpts-focal/cp_last.ckpt/assets\n"
     ]
    }
   ],
   "source": [
    "# Set all VGG layers to True\n",
    "ft_model = tfk.models.load_model(name, custom_objects={'f1_m': metrics.f1_m, 'precision_m': metrics.precision_m, 'recall_m': metrics.recall_m, 'categorical_focal_loss': metrics.categorical_focal_loss, 'focal_loss': metrics.focal_loss})\n",
    "ft_model.get_layer('vgg16').trainable = True # we get the layer by name, in the summary there are the names of all the names of the layers\n",
    "for i, layer in enumerate(ft_model.get_layer('vgg16').layers):\n",
    "    print(i, layer.name, layer.trainable) # all trainable layers\n",
    "\n",
    "# Freeze first N layers, e.g., until 14th\n",
    "for i, layer in enumerate(ft_model.get_layer('vgg16').layers[:14]):\n",
    "    layer.trainable=False # Tipically the forst layers detect edges so we don't want to retrain these layers\n",
    "for i, layer in enumerate(ft_model.get_layer('vgg16').layers):\n",
    "    print(i, layer.name, layer.trainable)\n",
    "ft_model.summary()\n",
    "\n",
    "ft_model.compile(loss=categorical_focal_loss(), optimizer=tfk.optimizers.Adam(1e-4), metrics=metrics())\n",
    "\n",
    "ft_history = ft_model.fit(\n",
    "    x = train_gen,\n",
    "    batch_size = batch_size,\n",
    "    epochs = epochs,\n",
    "    validation_data = valid_gen,\n",
    "    callbacks = callbacks(\"val_f1_m\", \"max\", patience)\n",
    ").history"
   ]
  },
  {
   "cell_type": "code",
   "execution_count": null,
   "id": "cbe03afe",
   "metadata": {},
   "outputs": [],
   "source": [
    "ft_model.save(name + '_ft')"
   ]
  }
 ],
 "metadata": {
  "kernelspec": {
   "display_name": "Python 3.9 (tensorflow_metal)",
   "language": "python",
   "name": "tensorflow_metal"
  },
  "language_info": {
   "codemirror_mode": {
    "name": "ipython",
    "version": 3
   },
   "file_extension": ".py",
   "mimetype": "text/x-python",
   "name": "python",
   "nbconvert_exporter": "python",
   "pygments_lexer": "ipython3",
   "version": "3.9.7"
  }
 },
 "nbformat": 4,
 "nbformat_minor": 5
}
