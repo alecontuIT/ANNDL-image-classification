{
 "cells": [
  {
   "cell_type": "markdown",
   "id": "2b49e304",
   "metadata": {},
   "source": [
    "# Imports"
   ]
  },
  {
   "cell_type": "code",
   "execution_count": 11,
   "id": "341d124e",
   "metadata": {},
   "outputs": [],
   "source": [
    "import numpy as np\n",
    "import tensorflow as tf\n",
    "import sys\n",
    "sys.path.append('../../')\n",
    "import utils\n",
    "import custom_metrics\n",
    "from tensorflow.keras.preprocessing.image import ImageDataGenerator\n",
    "from tensorflow.keras.applications.vgg16 import preprocess_input\n",
    "tfk = tf.keras \n",
    "tfkl = tfk.layers"
   ]
  },
  {
   "cell_type": "markdown",
   "id": "ace0b1dd",
   "metadata": {},
   "source": [
    "# Setting Seed"
   ]
  },
  {
   "cell_type": "code",
   "execution_count": 12,
   "id": "7fa9f56b",
   "metadata": {},
   "outputs": [],
   "source": [
    "seed = 17560\n",
    "\n",
    "np.random.seed(seed)\n",
    "tf.random.set_seed(seed)\n",
    "os.environ['PYTHONHASHSEED'] = str(seed)\n",
    "tf.compat.v1.set_random_seed(seed)"
   ]
  },
  {
   "cell_type": "markdown",
   "id": "5a4dd4d2",
   "metadata": {},
   "source": [
    "# Model Building"
   ]
  },
  {
   "cell_type": "code",
   "execution_count": 13,
   "id": "aa972153",
   "metadata": {},
   "outputs": [
    {
     "name": "stdout",
     "output_type": "stream",
     "text": [
      "Found 14176 images belonging to 14 classes.\n",
      "Found 3552 images belonging to 14 classes.\n"
     ]
    }
   ],
   "source": [
    "training_dir = os.path.join('.', 'training')\n",
    "validation_dir = os.path.join('.', 'validation')\n",
    "\n",
    "batch_size = 64\n",
    "epochs = 1000\n",
    "patience = 20\n",
    "hiddens = 2 \n",
    "neurons = [256, 128]\n",
    "input_shape = (256, 256, 3)\n",
    "\n",
    "train_data_gen = ImageDataGenerator(preprocessing_function=preprocess_input,\n",
    "                                   rotation_range=45,\n",
    "                                   zoom_range=0.2,\n",
    "                                   horizontal_flip=True,\n",
    "                                   vertical_flip=True,\n",
    "                                   height_shift_range=0.2,\n",
    "                                   width_shift_range=0.2)\n",
    "\n",
    "valid_data_gen = ImageDataGenerator(preprocessing_function=preprocess_input,\n",
    "                                   rotation_range=45,\n",
    "                                   zoom_range=0.2,\n",
    "                                   horizontal_flip=True,\n",
    "                                   vertical_flip=True,\n",
    "                                   height_shift_range=0.2,\n",
    "                                   width_shift_range=0.2)\n",
    "\n",
    "train_gen = train_data_gen.flow_from_directory(directory=training_dir,\n",
    "                                               target_size=input_shape[:2],\n",
    "                                               interpolation='bilinear',\n",
    "                                               color_mode='rgb',\n",
    "                                               batch_size=batch_size,\n",
    "                                               class_mode='categorical',\n",
    "                                               classes=None,\n",
    "                                               shuffle=True,\n",
    "                                               seed=seed)  \n",
    "\n",
    "valid_gen = valid_data_gen.flow_from_directory(directory=validation_dir,\n",
    "                                               target_size=input_shape[:2],\n",
    "                                               interpolation='bilinear',\n",
    "                                               color_mode='rgb',\n",
    "                                               class_mode='categorical',\n",
    "                                               batch_size=batch_size,\n",
    "                                               classes=None,\n",
    "                                               shuffle=False,\n",
    "                                               seed=seed)  \n",
    "                                        "
   ]
  },
  {
   "cell_type": "code",
   "execution_count": 14,
   "id": "f6126a67",
   "metadata": {},
   "outputs": [
    {
     "name": "stdout",
     "output_type": "stream",
     "text": [
      "{0: 1.2817359855334538, 1: 2.714668709306779, 2: 2.1729000613120784, 3: 1.050385299347955, 4: 0.8684146042636609, 5: 0.7243000204373595, 6: 1.2965063105908177, 7: 1.6545284780578897, 8: 1.7702297702297702, 9: 4.7989167230873395, 10: 0.7837240159221583, 11: 2.206037970743853, 12: 1.8821030270844397, 13: 0.22234770060857018}\n"
     ]
    }
   ],
   "source": [
    "classes_weights = wgt.compute_class_weight(class_weight='balanced', classes=np.unique(train_gen.classes), y=train_gen.classes)\n",
    "classes_weights_map = {i: classes_weights[i] for i in range(0, len(classes_weights))}\n",
    "print(classes_weights_map)"
   ]
  },
  {
   "cell_type": "code",
   "execution_count": 15,
   "id": "a1cdc08d",
   "metadata": {},
   "outputs": [
    {
     "name": "stdout",
     "output_type": "stream",
     "text": [
      "Model: \"model\"\n",
      "_________________________________________________________________\n",
      "Layer (type)                 Output Shape              Param #   \n",
      "=================================================================\n",
      "input_4 (InputLayer)         [(None, 256, 256, 3)]     0         \n",
      "_________________________________________________________________\n",
      "vgg16 (Functional)           (None, 8, 8, 512)         14714688  \n",
      "_________________________________________________________________\n",
      "Flattening (Flatten)         (None, 32768)             0         \n",
      "_________________________________________________________________\n",
      "dropout_1 (Dropout)          (None, 32768)             0         \n",
      "_________________________________________________________________\n",
      "dense_2 (Dense)              (None, 256)               8388864   \n",
      "_________________________________________________________________\n",
      "dropout_2 (Dropout)          (None, 256)               0         \n",
      "_________________________________________________________________\n",
      "dense_3 (Dense)              (None, 128)               32896     \n",
      "_________________________________________________________________\n",
      "dense_4 (Dense)              (None, 14)                1806      \n",
      "=================================================================\n",
      "Total params: 23,138,254\n",
      "Trainable params: 8,423,566\n",
      "Non-trainable params: 14,714,688\n",
      "_________________________________________________________________\n"
     ]
    }
   ],
   "source": [
    "tl_model = utils.build_tl_vgg_model(hiddens=hiddens, neurons=neurons, input_shape=input_shape, seed=seed)\n",
    "\n",
    "# Compile the model\n",
    "tl_model.compile(loss=tfk.losses.CategoricalCrossentropy(), optimizer=tfk.optimizers.Adam(), metrics=utils.metrics())\n",
    "tl_model.summary()"
   ]
  },
  {
   "cell_type": "markdown",
   "id": "0589d9ce",
   "metadata": {},
   "source": [
    "# Training and Results Visualization"
   ]
  },
  {
   "cell_type": "code",
   "execution_count": null,
   "id": "967fcd3d",
   "metadata": {},
   "outputs": [],
   "source": [
    "tl_history = tl_model.fit(\n",
    "    x = train_gen,\n",
    "    batch_size = batch_size,\n",
    "    epochs = epochs,\n",
    "    validation_data = valid_gen,\n",
    "    class_weight=classes_weights_map,\n",
    "    callbacks = utils.callbacks(\"val_accuracy\", \"max\", patience, 'sklearn_weights_cat_crossentropy_loss_model')\n",
    ").history"
   ]
  },
  {
   "cell_type": "code",
   "execution_count": null,
   "id": "389964a7",
   "metadata": {},
   "outputs": [],
   "source": [
    "name = 'sklearn_weights_crossentropy_' + utils.get_model_name(hiddens=hiddens, neurons=neurons)\n",
    "tl_model.save(name)"
   ]
  },
  {
   "cell_type": "code",
   "execution_count": null,
   "id": "f74097e9",
   "metadata": {},
   "outputs": [],
   "source": [
    "utils.plot_history(tl_history)"
   ]
  }
 ],
 "metadata": {
  "kernelspec": {
   "display_name": "Python 3.9 (tensorflow_metal)",
   "language": "python",
   "name": "tensorflow_metal"
  },
  "language_info": {
   "codemirror_mode": {
    "name": "ipython",
    "version": 3
   },
   "file_extension": ".py",
   "mimetype": "text/x-python",
   "name": "python",
   "nbconvert_exporter": "python",
   "pygments_lexer": "ipython3",
   "version": "3.9.7"
  }
 },
 "nbformat": 4,
 "nbformat_minor": 5
}
